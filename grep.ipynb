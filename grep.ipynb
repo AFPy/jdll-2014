{
 "metadata": {
  "name": "",
  "signature": "sha256:75cd971aa7f471fcea28c94d66c66c78c789011a3f1e605338da8ead99037fc2"
 },
 "nbformat": 3,
 "nbformat_minor": 0,
 "worksheets": [
  {
   "cells": [
    {
     "cell_type": "code",
     "collapsed": false,
     "input": [
      "ls_result = '''/bin\n",
      "/boot\n",
      "/dev\n",
      "/etc\n",
      "/home\n",
      "/lib\n",
      "/lost+found\n",
      "/mnt\n",
      "/opt\n",
      "/proc\n",
      "/root\n",
      "/run\n",
      "/sbin\n",
      "/srv\n",
      "/sys\n",
      "/tmp\n",
      "/usr\n",
      "/var'''"
     ],
     "language": "python",
     "metadata": {},
     "outputs": [],
     "prompt_number": 2
    },
    {
     "cell_type": "code",
     "collapsed": false,
     "input": [
      "def grep(text, word, exclude=False):\n",
      "    '''\n",
      "    Affiche les lignes de text qui contiennent word.\n",
      "    \n",
      "    Si exclude est True, n'affiche pas les lignes qui contiennent word.\n",
      "    '''\n",
      "    pass"
     ],
     "language": "python",
     "metadata": {},
     "outputs": [],
     "prompt_number": 3
    },
    {
     "cell_type": "code",
     "collapsed": false,
     "input": [
      "grep(ls_result, 'a')\n",
      "# doit n'afficher que /var"
     ],
     "language": "python",
     "metadata": {},
     "outputs": [],
     "prompt_number": 4
    },
    {
     "cell_type": "code",
     "collapsed": false,
     "input": [
      "grep(ls_result, 't', exclude=True)\n",
      "# doit afficher\n",
      "# /bin\n",
      "# /dev\n",
      "# /home\n",
      "# /lib\n",
      "# /proc\n",
      "# /run\n",
      "# /sbin\n",
      "# /srv\n",
      "# /sys\n",
      "# /usr\n",
      "# /var\n"
     ],
     "language": "python",
     "metadata": {},
     "outputs": [],
     "prompt_number": 5
    }
   ],
   "metadata": {}
  }
 ]
}
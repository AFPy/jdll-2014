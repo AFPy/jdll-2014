{
 "metadata": {
  "name": "Exercice compteur de mots"
 },
 "nbformat": 3,
 "nbformat_minor": 0,
 "worksheets": [
  {
   "cells": [
    {
     "cell_type": "code",
     "collapsed": false,
     "input": [
      "texte = u\"\"\"Ceci est un texte multiligne avec\n",
      "des accents. Peu importe la longueur des lignes ou le nombre de ligne Python supportera\n",
      "sans probl\u00e8mes les caract\u00e8res exotiques :\n",
      "-\u0915\u093e\u092e\u0938\u0942\u0924\u094d\u0930\n",
      "+\u904e\u52b4\u6b7b\n",
      "\"\"\""
     ],
     "language": "python",
     "metadata": {},
     "outputs": [],
     "prompt_number": 17
    },
    {
     "cell_type": "code",
     "collapsed": false,
     "input": [
      "def longueur(texte):\n",
      "    \"\"\" Retourne un tuple qui correspond au nombre lignes puis au \n",
      "        nombre de mots et au nombre de caract\u00e8res dans le texte\n",
      "    \"\"\"\n",
      "    compteur = 0\n",
      "    for line in texte.split('\\n'):\n",
      "        compteur += len(line.split(\" \"))\n",
      "\n",
      "    return texte.count('\\n'), compteur, len(texte)"
     ],
     "language": "python",
     "metadata": {},
     "outputs": [],
     "prompt_number": 18
    },
    {
     "cell_type": "code",
     "collapsed": false,
     "input": [
      "longueur(texte)"
     ],
     "language": "python",
     "metadata": {},
     "outputs": [
      {
       "output_type": "pyout",
       "prompt_number": 19,
       "text": [
        "(5, 30, 179)"
       ]
      }
     ],
     "prompt_number": 19
    },
    {
     "cell_type": "code",
     "collapsed": false,
     "input": [
      "def lireFichier(chemin):\n",
      "    \"\"\" Retourne un texte \u00e0 partir d'un fichier\n",
      "    \"\"\"\n",
      "    with open(chemin, 'r') as fichier:\n",
      "        texte = fichier.read();\n",
      "        fichier.flush()\n",
      "        \n",
      "    return texte"
     ],
     "language": "python",
     "metadata": {},
     "outputs": [],
     "prompt_number": 20
    },
    {
     "cell_type": "code",
     "collapsed": false,
     "input": [
      "longueur(lireFichier('/etc/bash.bashrc'))"
     ],
     "language": "python",
     "metadata": {},
     "outputs": [
      {
       "output_type": "pyout",
       "prompt_number": 21,
       "text": [
        "(68, 441, 2177)"
       ]
      }
     ],
     "prompt_number": 21
    },
    {
     "cell_type": "code",
     "collapsed": false,
     "input": [
      "def longueur(texte):\n",
      "    \"\"\" Retourne un tuple qui correspond au nombre lignes puis au \n",
      "        nombre de mots et au nombre de caract\u00e8res dans le texte\n",
      "\n",
      "    Nous ne comptons plus les espaces cons\u00e9cutifs.\n",
      "    \"\"\"\n",
      "    compteur = 0\n",
      "    for line in texte.split('\\n'):\n",
      "        for word in line.split(\" \"):\n",
      "            if len(word) > 0:\n",
      "                compteur = compteur + 1\n",
      "\n",
      "    return texte.count('\\n'), compteur, len(texte)"
     ],
     "language": "python",
     "metadata": {},
     "outputs": [],
     "prompt_number": 22
    },
    {
     "cell_type": "code",
     "collapsed": false,
     "input": [
      "longueur(lireFichier('/etc/bash.bashrc'))"
     ],
     "language": "python",
     "metadata": {},
     "outputs": [
      {
       "output_type": "pyout",
       "prompt_number": 23,
       "text": [
        "(68, 308, 2177)"
       ]
      }
     ],
     "prompt_number": 23
    },
    {
     "cell_type": "code",
     "collapsed": false,
     "input": [
      "def recupURL(url):\n",
      "    \"\"\" Retourne un texte \u00e0 partir d'une URL donn\u00e9e\n",
      "    \"\"\"\n",
      "    from urllib.request import URLopener\n",
      "    urlopen = URLopener()\n",
      "    with urlopen.open(url) as data:\n",
      "        bytes = data.read()\n",
      "\n",
      "    return bytes.decode('utf-8')"
     ],
     "language": "python",
     "metadata": {},
     "outputs": [],
     "prompt_number": 24
    },
    {
     "cell_type": "code",
     "collapsed": false,
     "input": [
      "longueur(recupURL('http://encolpe.degoute.free.fr'))"
     ],
     "language": "python",
     "metadata": {},
     "outputs": [
      {
       "output_type": "pyout",
       "prompt_number": 25,
       "text": [
        "(644, 4282, 31341)"
       ]
      }
     ],
     "prompt_number": 25
    },
    {
     "cell_type": "code",
     "collapsed": false,
     "input": [
      "def recupURL(url):\n",
      "    \"\"\" Retourne un texte \u00e0 partir d'une URL donn\u00e9e\n",
      "\n",
      "        Nettoyage du texte avec BeautifulSoup\n",
      "    \"\"\"\n",
      "    from urllib.request import URLopener\n",
      "    from bs4 import BeautifulSoup\n",
      "    \n",
      "    urlopen = URLopener()\n",
      "    with urlopen.open(url) as data:\n",
      "        bytes = data.read()\n",
      "\n",
      "    soup = BeautifulSoup(bytes.decode('utf-8'))\n",
      "    \n",
      "    return soup.get_text()"
     ],
     "language": "python",
     "metadata": {},
     "outputs": [],
     "prompt_number": 26
    },
    {
     "cell_type": "code",
     "collapsed": false,
     "input": [
      "longueur(recupURL('http://encolpe.degoute.free.fr'))"
     ],
     "language": "python",
     "metadata": {},
     "outputs": [
      {
       "output_type": "pyout",
       "prompt_number": 27,
       "text": [
        "(560, 3442, 20685)"
       ]
      }
     ],
     "prompt_number": 27
    },
   ],
   "metadata": {}
  }
 ]
}

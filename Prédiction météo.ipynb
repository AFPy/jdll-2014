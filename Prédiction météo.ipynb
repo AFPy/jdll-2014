{
 "metadata": {
  "name": "",
  "signature": "sha256:6e9595ab0c1908b62415f950ee9db67d82def033e63281019063dbbe154d8c50"
 },
 "nbformat": 3,
 "nbformat_minor": 0,
 "worksheets": [
  {
   "cells": [
    {
     "cell_type": "markdown",
     "metadata": {},
     "source": [
      "## Introduction aux requ\u00eates API via HTTP\n",
      "\n",
      "Le but ce cet exercice est de pr\u00e9senter le concept d'une API HTTP au lecteur, ainsi que les diff\u00e9rents packages permettant d'interactir avec celles-ci."
     ]
    },
    {
     "cell_type": "markdown",
     "metadata": {},
     "source": [
      "### Qu'est ce qu'une API?\n",
      "\n",
      "Une API (Application Programming Interface) est une interface permettant \u00e0 un programme d'int\u00e9ragir avec les fonctionnalit\u00e9s d'un autre programme. Elle peut se pr\u00e9senter sous la forme d'une librairie \u00e0 utiliser dans un programme, d'un service web, etc.\n",
      "\n",
      "Par exemple, il est possible d'int\u00e9ragir avec Twitter (poster un tweet, le supprimer, lister les contacts d'un utilisateur, etc) via une [API web](https://dev.twitter.com/docs/api/1.1). La m\u00eame chose est possible avec [Gtihub](https://developer.github.com/v3/), [Facebook](https://developers.facebook.com/docs/reference/apis/), [Google](https://console.developers.google.com/project/782925393318/apiui/api?show=all), etc.\n",
      "\n",
      "Dans cet exervice, nous allons vous montrer comment int\u00e9ragir avec une API web."
     ]
    },
    {
     "cell_type": "markdown",
     "metadata": {},
     "source": [
      "## Comment int\u00e9r\u00e9agir avec une API web?\n",
      "En utilisant le protocole du web le plus courant: HTTP. Utiliser une API web est aussi simple que de visiter une page web!\n",
      "\n",
      "Python int\u00e8gre plusieurs modules permettant de faire des requ\u00eates HTTP dans sa librairie standard. Nous allons utiliser [``urllib.request``](https://docs.python.org/3/library/urllib.request.html#module-urllib.request).\n",
      "\n",
      "### Exemple de requ\u00eate HTTP avec ``urllib.request``"
     ]
    },
    {
     "cell_type": "code",
     "collapsed": false,
     "input": [
      "import urllib.request\n",
      "\n",
      "response = urllib.request.urlopen('http://www.afpy.org')\n",
      "print(response)\n",
      "print(response.read(300).decode('utf-8'))  # affiche les 300 premiers caract\u00e8res du code HTML de la page requ\u00eat\u00e9e"
     ],
     "language": "python",
     "metadata": {},
     "outputs": [
      {
       "output_type": "stream",
       "stream": "stdout",
       "text": [
        "<http.client.HTTPResponse object at 0x7f35143d1550>\n",
        "\n",
        "<!DOCTYPE html>\n",
        "\n",
        "<html xmlns=\"http://www.w3.org/1999/xhtml\" lang=\"fr\">\n",
        "\n",
        "    \n",
        "    \n",
        "    \n",
        "    \n",
        "    \n",
        "\n",
        "\n",
        "<head>\n",
        "    <meta http-equiv=\"Content-Type\" content=\"text/html; charset=utf-8\" />\n",
        "\n",
        "    \n",
        "        <base href=\"http://www.afpy.org/\" /><!--[if lt IE 7]></base><![endif]-->\n",
        "    \n",
        "\n",
        "    \n",
        "        <meta name=\"d\n"
       ]
      }
     ],
     "prompt_number": 1
    },
    {
     "cell_type": "markdown",
     "metadata": {},
     "source": [
      "## Pr\u00e9diction m\u00e9t\u00e9os avec openweathermap.org"
     ]
    },
    {
     "cell_type": "markdown",
     "metadata": {},
     "source": [
      "Nous allons utiliser http://openweathermap.org/API pour r\u00e9cup\u00e9rer la m\u00e9t\u00e9o actuelle d'une ville entr\u00e9e par l'utilisateur, ainsi que les pr\u00e9visions m\u00e9t\u00e9os.\n",
      "\n",
      "Note: L'API de OpenWeatherMap renvoie des donn\u00e9es en format JSON. Afin de transformer ces donn\u00e9es en un format natif python, il faudra utiliser le module ``json``."
     ]
    },
    {
     "cell_type": "markdown",
     "metadata": {},
     "source": [
      "### Exercice 1\n",
      "\u00c9crire une fonction retournant la m\u00e9t\u00e9o actuelle d'une ville donn\u00e9e. Cette fonction prendra en argument le nom d'une ville, la langue de la pr\u00e9vision, appelant l'API d'OpenWeatherMap, parsant le JSON retourn\u00e9 afin de le transformer en ``dict`` python, et retourant finalement ce ``dict``."
     ]
    },
    {
     "cell_type": "code",
     "collapsed": false,
     "input": [
      "import urllib.request\n",
      "import json\n",
      "\n",
      "def meteo(ville, lang):\n",
      "    \"\"\"Retourne la m\u00e9t\u00e9o actuelle de la ville, dans la langue pass\u00e9e en argument.\n",
      "    \n",
      "    >>> w = weather(city='lyon,fr', lang='fr')\n",
      "    >>> w\n",
      "    {'weather': [{'main': 'Clear',\n",
      "       'icon': '01d',\n",
      "       'description': 'ensoleill\u00e9',\n",
      "       'id': 800}],\n",
      "     'base': 'cmc stations',\n",
      "     'sys': {'message': 0.3494,\n",
      "      'country': 'FR',\n",
      "      'sunrise': 1396761011,\n",
      "      'sunset': 1396808137},\n",
      "     'cod': 200,\n",
      "     'name': 'Lyon',\n",
      "     'clouds': {'all': 0},\n",
      "     'main': {'temp_min': 288.71,\n",
      "      'pressure': 1020,\n",
      "      'temp_max': 292.15,\n",
      "      'humidity': 42,\n",
      "      'temp': 290.61},\n",
      "     'dt': 1396785710,\n",
      "     'coord': {'lat': 45.75, 'lon': 4.85},\n",
      "     'id': 2996944,\n",
      "     'wind': {'deg': 360, 'speed': 4.6}}\n",
      "    \"\"\"\n",
      "    url = 'http://api.openweathermap.org/data/2.5/weather?q={ville}&lang={ville}&units=metric'.format(ville=ville, lang=lang)\n",
      "    reponse = urllib.request.urlopen(url)\n",
      "    meteo_dict = json.loads(reponse.read().decode('utf-8'))\n",
      "    return meteo_dict"
     ],
     "language": "python",
     "metadata": {},
     "outputs": [],
     "prompt_number": 2
    },
    {
     "cell_type": "markdown",
     "metadata": {},
     "source": [
      "### Exercice 2: \n",
      "\u00c9crire une fonction retournant les pr\u00e9visions m\u00e9t\u00e9o pour une ville donn\u00e9e. Cette fonction prendra en argument le nom d'une ville, la langue de la pr\u00e9vision et le nombre de jours de pr\u00e9visions requis, appelant l'API d'OpenWeatherMap, parsant le JSON retourn\u00e9 afin de le transformer en ``dict`` python, et retourant finalement ce ``dict``.\n",
      "\n",
      "Le nombre de jours de pr\u00e9visions par d\u00e9faut sera 7."
     ]
    },
    {
     "cell_type": "code",
     "collapsed": false,
     "input": [
      "def prevision(ville, lang, nb_jours=7):\n",
      "    \"\"\"Retourne la m\u00e9t\u00e9o actuelle de la ville, dans la langue pass\u00e9e en argument.\n",
      "    \n",
      "    >>> f = forecast(city='lyon,fr', lang='fr', nb_days=10)\n",
      "    >>> f\n",
      "    {'message': 0.0219,\n",
      "     'city': {'sys': {'population': 0},\n",
      "      'name': 'Lyon',\n",
      "      'country': 'FR',\n",
      "      'population': 0,\n",
      "      'coord': {'lat': 45.748459, 'lon': 4.84671},\n",
      "      'id': 2996944},\n",
      "     'list': [{'weather': [{'main': 'Clear',\n",
      "         'icon': '01d',\n",
      "         'description': 'ensoleill\u00e9',\n",
      "         'id': 800}],\n",
      "       'pressure': 979.54,\n",
      "       'temp': {'night': 283.92,\n",
      "        'day': 293.18,\n",
      "        'morn': 290.63,\n",
      "        'min': 283.92,\n",
      "        'max': 293.71,\n",
      "        'eve': 290.75},\n",
      "       'deg': 346,\n",
      "       'dt': 1396782000,\n",
      "       'clouds': 0,\n",
      "       'humidity': 79,\n",
      "       'speed': 2.61},\n",
      "      {'weather': [{'main': 'Rain',\n",
      "         'icon': '10d',\n",
      "        ...\n",
      "    }\n",
      "    \"\"\"\n",
      "    url = 'http://api.openweathermap.org/data/2.5/forecast/daily?q={}&lang={}&cnt={}&units=metric'.format(ville, lang, str(nb_jours))\n",
      "    reponse = urllib.request.urlopen(url)\n",
      "    prevision_dict = json.loads(reponse.read().decode('utf-8'))\n",
      "    return prevision_dict"
     ],
     "language": "python",
     "metadata": {},
     "outputs": [],
     "prompt_number": 9
    },
    {
     "cell_type": "markdown",
     "metadata": {},
     "source": [
      "## Exercice 3:\n",
      "Afficher les temp\u00e9ratures minimales et maximales de 5 villes fran\u00e7aises pour les 10 prochains jours en utilisant la fonction d\u00e9finie dans l'exercice 2."
     ]
    },
    {
     "cell_type": "code",
     "collapsed": false,
     "input": [
      "villes = ['Lyon', 'Paris', 'Nantes', 'Marseille', 'Toulouse']\n",
      "\n",
      "max_temperatures, min_temperatures = [], []\n",
      "for ville in villes:\n",
      "    previsions = prevision(ville, 'fr')\n",
      "    for prev in previsions['list']:\n",
      "        max_temperatures.append(prev['temp']['max'])\n",
      "        min_temperatures.append(prev['temp']['min'])\n",
      "    print(\"%s : min %f\u00b0C, max %f\u00b0C\" % (ville, min(min_temperatures), max(max_temperatures)))\n",
      "    max_temperatures, min_temperatures = [], []  # reinitialisation des listes pour la ville suivante\n",
      "    \n",
      "    "
     ],
     "language": "python",
     "metadata": {},
     "outputs": [
      {
       "output_type": "stream",
       "stream": "stdout",
       "text": [
        "Lyon : min 2.200000\u00b0C, max 22.410000\u00b0C\n",
        "Paris : min 4.040000\u00b0C, max 28.530000\u00b0C"
       ]
      },
      {
       "output_type": "stream",
       "stream": "stdout",
       "text": [
        "\n",
        "Nantes : min 6.270000\u00b0C, max 18.220000\u00b0C"
       ]
      },
      {
       "output_type": "stream",
       "stream": "stdout",
       "text": [
        "\n",
        "Marseille : min 11.680000\u00b0C, max 17.960000\u00b0C"
       ]
      },
      {
       "output_type": "stream",
       "stream": "stdout",
       "text": [
        "\n",
        "Toulouse : min 6.230000\u00b0C, max 23.990000\u00b0C"
       ]
      },
      {
       "output_type": "stream",
       "stream": "stdout",
       "text": [
        "\n"
       ]
      }
     ],
     "prompt_number": 18
    },
    {
     "cell_type": "code",
     "collapsed": false,
     "input": [],
     "language": "python",
     "metadata": {},
     "outputs": []
    }
   ],
   "metadata": {}
  }
 ]
}
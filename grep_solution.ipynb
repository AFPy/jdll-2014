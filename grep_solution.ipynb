{
 "metadata": {
  "name": "",
  "signature": "sha256:678743142e2b6757aae04cb52dabb89b3917337c8261bfce34393f9b984fb83d"
 },
 "nbformat": 3,
 "nbformat_minor": 0,
 "worksheets": [
  {
   "cells": [
    {
     "cell_type": "code",
     "collapsed": false,
     "input": [
      "ls_result = '''/bin\n",
      "/boot\n",
      "/dev\n",
      "/etc\n",
      "/home\n",
      "/lib\n",
      "/lost+found\n",
      "/mnt\n",
      "/opt\n",
      "/proc\n",
      "/root\n",
      "/run\n",
      "/sbin\n",
      "/srv\n",
      "/sys\n",
      "/tmp\n",
      "/usr\n",
      "/var'''"
     ],
     "language": "python",
     "metadata": {},
     "outputs": [],
     "prompt_number": 10
    },
    {
     "cell_type": "code",
     "collapsed": false,
     "input": [
      "def grep(text, word, exclude=False):\n",
      "    '''\n",
      "    Affiche les lignes de text qui contiennent word.\n",
      "    \n",
      "    Si exclude est True, n'affiche pas les lignes qui contiennent word.\n",
      "    '''\n",
      "    for line in text.split():\n",
      "        if word in line and not exclude:\n",
      "            print(line)\n",
      "        elif word not in line and exclude:\n",
      "            print(line)"
     ],
     "language": "python",
     "metadata": {},
     "outputs": [],
     "prompt_number": 11
    },
    {
     "cell_type": "code",
     "collapsed": false,
     "input": [
      "grep(ls_result, 'a')\n",
      "# doit n'afficher que /var"
     ],
     "language": "python",
     "metadata": {},
     "outputs": [
      {
       "output_type": "stream",
       "stream": "stdout",
       "text": [
        "/var\n"
       ]
      }
     ],
     "prompt_number": 12
    },
    {
     "cell_type": "code",
     "collapsed": false,
     "input": [
      "grep(ls_result, 't', exclude=True)\n",
      "# doit afficher\n",
      "# /bin\n",
      "# /dev\n",
      "# /home\n",
      "# /lib\n",
      "# /proc\n",
      "# /run\n",
      "# /sbin\n",
      "# /srv\n",
      "# /sys\n",
      "# /usr\n",
      "# /var\n"
     ],
     "language": "python",
     "metadata": {},
     "outputs": [
      {
       "output_type": "stream",
       "stream": "stdout",
       "text": [
        "/bin\n",
        "/dev\n",
        "/home\n",
        "/lib\n",
        "/proc\n",
        "/run\n",
        "/sbin\n",
        "/srv\n",
        "/sys\n",
        "/usr\n",
        "/var\n"
       ]
      }
     ],
     "prompt_number": 13
    }
   ],
   "metadata": {}
  }
 ]
}